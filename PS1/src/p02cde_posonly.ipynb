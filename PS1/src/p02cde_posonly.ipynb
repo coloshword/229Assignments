{
 "cells": [
  {
   "cell_type": "code",
   "execution_count": 10,
   "metadata": {},
   "outputs": [],
   "source": [
    "import numpy as np\n",
    "import util\n",
    "from prev_problems_modules import p01b_logreg\n",
    "WILDCARD = 'X'\n",
    "\n",
    "\n",
    "def main(train_path, valid_path, test_path, pred_path):\n",
    "    \"\"\"Problem 2: Logistic regression for incomplete, positive-only labels.\n",
    "\n",
    "    Run under the following conditions:\n",
    "        1. on y-labels,\n",
    "        2. on l-labels,\n",
    "        3. on l-labels with correction factor alpha.\n",
    "\n",
    "    Args:\n",
    "        train_path: Path to CSV file containing training set.\n",
    "        valid_path: Path to CSV file containing validation set.\n",
    "        test_path: Path to CSV file containing test set.\n",
    "        pred_path: Path to save predictions.\n",
    "    \"\"\"\n",
    "    pred_path_c = pred_path.replace(WILDCARD, 'c')\n",
    "    pred_path_d = pred_path.replace(WILDCARD, 'd')\n",
    "    pred_path_e = pred_path.replace(WILDCARD, 'e')\n",
    "\n",
    "    # *** START CODE HERE ***\n",
    "    # Part (c): Train and test on true labels\n",
    "    # Make sure to save outputs to pred_path_c\n",
    "    # Part (d): Train on y-labels and test on true labels\n",
    "    # Make sure to save outputs to pred_path_d\n",
    "    # Part (e): Apply correction factor using validation set and test on true labels\n",
    "    # Plot and use np.savetxt to save outputs to pred_path_e\n",
    "    # *** END CODER HERE\n"
   ]
  }
 ],
 "metadata": {
  "kernelspec": {
   "display_name": "Python 3",
   "language": "python",
   "name": "python3"
  },
  "language_info": {
   "codemirror_mode": {
    "name": "ipython",
    "version": 3
   },
   "file_extension": ".py",
   "mimetype": "text/x-python",
   "name": "python",
   "nbconvert_exporter": "python",
   "pygments_lexer": "ipython3",
   "version": "3.12.2"
  }
 },
 "nbformat": 4,
 "nbformat_minor": 2
}
